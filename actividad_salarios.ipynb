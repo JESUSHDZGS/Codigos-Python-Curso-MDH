{
 "cells": [
  {
   "cell_type": "code",
   "execution_count": 1,
   "id": "8424cbbe",
   "metadata": {},
   "outputs": [],
   "source": [
    "import pandas as pd\n",
    "import numpy as np"
   ]
  },
  {
   "cell_type": "code",
   "execution_count": 2,
   "id": "d8d78860",
   "metadata": {},
   "outputs": [],
   "source": [
    "df=pd.read_csv('empleados.csv')"
   ]
  },
  {
   "cell_type": "code",
   "execution_count": 3,
   "id": "c33e123e",
   "metadata": {},
   "outputs": [
    {
     "name": "stdout",
     "output_type": "stream",
     "text": [
      "<class 'pandas.core.frame.DataFrame'>\n",
      "RangeIndex: 1000 entries, 0 to 999\n",
      "Data columns (total 6 columns):\n",
      " #   Column              Non-Null Count  Dtype  \n",
      "---  ------              --------------  -----  \n",
      " 0   Nombre              933 non-null    object \n",
      " 1   Genero              854 non-null    object \n",
      " 2   Fecha Contratacion  999 non-null    object \n",
      " 3   Salario             999 non-null    float64\n",
      " 4   Definitivo          933 non-null    object \n",
      " 5   Equipo              957 non-null    object \n",
      "dtypes: float64(1), object(5)\n",
      "memory usage: 47.0+ KB\n"
     ]
    }
   ],
   "source": [
    "df.info()"
   ]
  },
  {
   "cell_type": "code",
   "execution_count": 4,
   "id": "f428a5bf",
   "metadata": {},
   "outputs": [],
   "source": [
    "marketing=df['Equipo']=='Marketing'\n",
    "ventas=df['Equipo']=='Ventas'\n",
    "legal=df['Equipo']=='Legal'"
   ]
  },
  {
   "cell_type": "code",
   "execution_count": 6,
   "id": "7ecac06f",
   "metadata": {},
   "outputs": [
    {
     "data": {
      "text/html": [
       "<div>\n",
       "<style scoped>\n",
       "    .dataframe tbody tr th:only-of-type {\n",
       "        vertical-align: middle;\n",
       "    }\n",
       "\n",
       "    .dataframe tbody tr th {\n",
       "        vertical-align: top;\n",
       "    }\n",
       "\n",
       "    .dataframe thead th {\n",
       "        text-align: right;\n",
       "    }\n",
       "</style>\n",
       "<table border=\"1\" class=\"dataframe\">\n",
       "  <thead>\n",
       "    <tr style=\"text-align: right;\">\n",
       "      <th></th>\n",
       "      <th>Nombre</th>\n",
       "      <th>Genero</th>\n",
       "      <th>Fecha Contratacion</th>\n",
       "      <th>Salario</th>\n",
       "      <th>Definitivo</th>\n",
       "      <th>Equipo</th>\n",
       "    </tr>\n",
       "  </thead>\n",
       "  <tbody>\n",
       "    <tr>\n",
       "      <th>0</th>\n",
       "      <td>Douglas</td>\n",
       "      <td>Masculino</td>\n",
       "      <td>08/06/1993</td>\n",
       "      <td>NaN</td>\n",
       "      <td>True</td>\n",
       "      <td>Marketing</td>\n",
       "    </tr>\n",
       "    <tr>\n",
       "      <th>5</th>\n",
       "      <td>Dennis</td>\n",
       "      <td>Masculino</td>\n",
       "      <td>4/18/87</td>\n",
       "      <td>115163.0</td>\n",
       "      <td>False</td>\n",
       "      <td>Legal</td>\n",
       "    </tr>\n",
       "    <tr>\n",
       "      <th>11</th>\n",
       "      <td>Julie</td>\n",
       "      <td>Femenino</td>\n",
       "      <td>10/26/97</td>\n",
       "      <td>102508.0</td>\n",
       "      <td>True</td>\n",
       "      <td>Legal</td>\n",
       "    </tr>\n",
       "    <tr>\n",
       "      <th>13</th>\n",
       "      <td>Gary</td>\n",
       "      <td>Masculino</td>\n",
       "      <td>1/27/08</td>\n",
       "      <td>109831.0</td>\n",
       "      <td>False</td>\n",
       "      <td>Ventas</td>\n",
       "    </tr>\n",
       "    <tr>\n",
       "      <th>20</th>\n",
       "      <td>Lois</td>\n",
       "      <td>NaN</td>\n",
       "      <td>4/22/95</td>\n",
       "      <td>64714.0</td>\n",
       "      <td>True</td>\n",
       "      <td>Legal</td>\n",
       "    </tr>\n",
       "  </tbody>\n",
       "</table>\n",
       "</div>"
      ],
      "text/plain": [
       "     Nombre     Genero Fecha Contratacion   Salario Definitivo     Equipo\n",
       "0   Douglas  Masculino         08/06/1993       NaN       True  Marketing\n",
       "5    Dennis  Masculino            4/18/87  115163.0      False      Legal\n",
       "11    Julie   Femenino           10/26/97  102508.0       True      Legal\n",
       "13     Gary  Masculino            1/27/08  109831.0      False     Ventas\n",
       "20     Lois        NaN            4/22/95   64714.0       True      Legal"
      ]
     },
     "execution_count": 6,
     "metadata": {},
     "output_type": "execute_result"
    }
   ],
   "source": [
    "df[marketing|ventas|legal].head(5)"
   ]
  },
  {
   "cell_type": "code",
   "execution_count": null,
   "id": "924df263",
   "metadata": {},
   "outputs": [],
   "source": [
    "# Aldair de Jesus De Leon Hernandez\n",
    "#Actividad Salarios\n",
    "#Actividad Básica"
   ]
  },
  {
   "cell_type": "code",
   "execution_count": 8,
   "id": "598f4729",
   "metadata": {},
   "outputs": [],
   "source": [
    "salario_min=df[df['Salario']>0]['Salario'].min()"
   ]
  },
  {
   "cell_type": "code",
   "execution_count": 9,
   "id": "452b17eb",
   "metadata": {},
   "outputs": [],
   "source": [
    "salario_max=df[df['Salario']>0]['Salario'].max()"
   ]
  },
  {
   "cell_type": "code",
   "execution_count": 12,
   "id": "4e39e88d",
   "metadata": {},
   "outputs": [
    {
     "data": {
      "text/plain": [
       "114895.0"
      ]
     },
     "execution_count": 12,
     "metadata": {},
     "output_type": "execute_result"
    }
   ],
   "source": [
    "salario_max-salario_min"
   ]
  },
  {
   "cell_type": "code",
   "execution_count": null,
   "id": "d7ffce2f",
   "metadata": {},
   "outputs": [],
   "source": [
    "#Actividad avanzada"
   ]
  },
  {
   "cell_type": "code",
   "execution_count": 14,
   "id": "7331a871",
   "metadata": {},
   "outputs": [
    {
     "data": {
      "text/plain": [
       "count       999.000000\n",
       "mean      90655.528529\n",
       "std       32939.511615\n",
       "min       35013.000000\n",
       "25%       62560.000000\n",
       "50%       90427.000000\n",
       "75%      118744.500000\n",
       "max      149908.000000\n",
       "Name: Salario, dtype: float64"
      ]
     },
     "execution_count": 14,
     "metadata": {},
     "output_type": "execute_result"
    }
   ],
   "source": [
    "df['Salario'].describe()"
   ]
  },
  {
   "cell_type": "code",
   "execution_count": 15,
   "id": "cf459c03",
   "metadata": {},
   "outputs": [
    {
     "data": {
      "text/plain": [
       "90655.52852852854"
      ]
     },
     "execution_count": 15,
     "metadata": {},
     "output_type": "execute_result"
    }
   ],
   "source": [
    "df['Salario'].mean()"
   ]
  },
  {
   "cell_type": "code",
   "execution_count": 18,
   "id": "89989b79",
   "metadata": {},
   "outputs": [
    {
     "data": {
      "text/plain": [
       "32939.511614864416"
      ]
     },
     "execution_count": 18,
     "metadata": {},
     "output_type": "execute_result"
    }
   ],
   "source": [
    "df['Salario'].std()"
   ]
  },
  {
   "cell_type": "code",
   "execution_count": 22,
   "id": "de55c394",
   "metadata": {},
   "outputs": [
    {
     "data": {
      "text/plain": [
       "90427.0"
      ]
     },
     "execution_count": 22,
     "metadata": {},
     "output_type": "execute_result"
    }
   ],
   "source": [
    "df['Salario'].median()"
   ]
  }
 ],
 "metadata": {
  "kernelspec": {
   "display_name": "Python 3 (ipykernel)",
   "language": "python",
   "name": "python3"
  },
  "language_info": {
   "codemirror_mode": {
    "name": "ipython",
    "version": 3
   },
   "file_extension": ".py",
   "mimetype": "text/x-python",
   "name": "python",
   "nbconvert_exporter": "python",
   "pygments_lexer": "ipython3",
   "version": "3.9.12"
  }
 },
 "nbformat": 4,
 "nbformat_minor": 5
}
