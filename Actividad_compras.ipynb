{
  "nbformat": 4,
  "nbformat_minor": 0,
  "metadata": {
    "colab": {
      "provenance": [],
      "collapsed_sections": []
    },
    "kernelspec": {
      "name": "python3",
      "display_name": "Python 3"
    },
    "language_info": {
      "name": "python"
    }
  },
  "cells": [
    {
      "cell_type": "code",
      "execution_count": null,
      "metadata": {
        "id": "pT5LoWiaNdyh"
      },
      "outputs": [],
      "source": [
        "#Aldair de Jesus De Leon Hernandez\n",
        "#Actividad Compras por cliente"
      ]
    },
    {
      "cell_type": "code",
      "source": [
        "#Actividad:Basica\n",
        "# Crea un programa que permita al usuario ingresar los montos de las compras de \n",
        "#un cliente, cortando el ingreso de datos cuando el usuario ingresa el monto 0\n",
        "#Si ingresa una cantidad negativa no debe procesarse y se le debe solicitar\n",
        "#que ingrese una nueva cantidad. Al finalizar, informar el total a pagar \n",
        "#teniendo en cuenta que, si las ventas superan el total de $1000, se debe\n",
        "#aplicar un 10% de descuento"
      ],
      "metadata": {
        "id": "1P9hmoo3Nn8w"
      },
      "execution_count": null,
      "outputs": []
    },
    {
      "cell_type": "code",
      "source": [
        "from IPython.utils.path import target_outdated"
      ],
      "metadata": {
        "id": "qoTSdsxPOSff"
      },
      "execution_count": 11,
      "outputs": []
    },
    {
      "cell_type": "code",
      "source": [
        "from IPython.core.display import clear_output\n",
        "def agregar_compra(Recibo,monto):\n",
        "  clear_output()\n",
        "  Recibo.append(monto)\n",
        "  return Recibo"
      ],
      "metadata": {
        "id": "E4XEaksHSTJG"
      },
      "execution_count": 10,
      "outputs": []
    },
    {
      "cell_type": "code",
      "source": [
        "def recibo_de_compra():\n",
        "  terminado=False\n",
        "  Recibo=[]\n",
        "  print('Este programa registra las compras hechas por un cliente')\n",
        "  print('Debes ingresar uno por uno el monto de compra')\n",
        "  print('Para terminar, introduce un 0 en el recuadro')\n",
        "  cliente=input('Ingresa el nombre del cliente: ')\n",
        "  while not terminado:\n",
        "    monto=float(input('Ingresa el monto de compra: '))\n",
        "    if monto>0:\n",
        "      Recibo=agregar_compra(Recibo,monto)\n",
        "    elif monto<0:\n",
        "      clear_output()\n",
        "      print('Monto invalido, por favor, ingrese otra cantidad ')\n",
        "    elif monto==0:\n",
        "      clear_output()\n",
        "      print('Gracias por usar nuestro servicio')\n",
        "      terminado=True\n",
        "    else:\n",
        "      terminado=True\n",
        "      print('Gracias por usar nuestro servicio')\n",
        "    print(cliente)\n",
        "    print('Montos: {}'.format(Recibo))\n",
        "    subtotal=(sum(Recibo))\n",
        "    descuento=subtotal*0.1\n",
        "    total=subtotal-descuento\n",
        "    if subtotal>1000:\n",
        "      print('Total sin descuento:{}'.format(subtotal))\n",
        "      print('Total con descuento:{}'.format(total))\n",
        "    elif subtotal<1000:\n",
        "      print('Total sin descuento: {}'.format(subtotal))"
      ],
      "metadata": {
        "id": "VaOkJ58UUBVj"
      },
      "execution_count": 12,
      "outputs": []
    },
    {
      "cell_type": "code",
      "source": [
        "recibo_de_compra()"
      ],
      "metadata": {
        "id": "f2QmPMJfeA2P"
      },
      "execution_count": null,
      "outputs": []
    },
    {
      "cell_type": "code",
      "source": [
        "#Actividad:Avanzada\n",
        "#Crea un programa que permita al usuario ingresar el tiempo\n",
        "#dentro de un estacionamiento, cortando el ingreso de datos\n",
        "#cuando el usuario ingresa 0 minutos\n",
        "#si ingresa una cantidad negativa, no debe procesarse y se le\n",
        "#debe solicitar que ingrese una nueva cantidad.\n",
        "#Ingresar una tarifa fija durante la primera hora (60 minutos) de\n",
        "#$25 y $15 por cada hora adicional. Al finalizar, informar el total a \n",
        "#pagar teniendo en cuenta que, si el monto supera las 8 horas se\n",
        "#aplica una tarifa de $200 extra."
      ],
      "metadata": {
        "id": "NGJLYa13nP_L"
      },
      "execution_count": null,
      "outputs": []
    },
    {
      "cell_type": "code",
      "source": [
        "def hora_o_fraccion(minutos,ticket):\n",
        "  clear_output()\n",
        "  minutos.append(ticket)\n",
        "  return minutos"
      ],
      "metadata": {
        "id": "licXU4gQLyYw"
      },
      "execution_count": 3,
      "outputs": []
    },
    {
      "cell_type": "code",
      "source": [
        "def cobro_estacionamiento():\n",
        "  terminado=False\n",
        "  print('Bienvenido al sistema automatico de cobro del estacionamiento Plaza Galerias')\n",
        "  print('Tarifas:')\n",
        "  print('Hora o fracion: $25')\n",
        "  print('Hora adicional: $15')\n",
        "  print('Advertencia: Si excede de 8 horas o pierde su ticket, se le cobrará una multa de $200')\n",
        "  hora_o_fraccion =25\n",
        "  penalizacion = 200\n",
        "  hora_adicional = 15\n",
        "  while not terminado:\n",
        "    ticket=int(input('Introduce el ticket '))\n",
        "    if ticket < 0:\n",
        "      print('Error desconocido')\n",
        "      print('Por favor, inténtelo de nuevo')\n",
        "      break\n",
        "    if ticket == 0:\n",
        "      break\n",
        "      print('Gracias por su visita')\n",
        "    if ticket <=60:\n",
        "      clear_output()\n",
        "      print('Tu pago es de $ {}'.format(hora_o_fraccion))\n",
        "      print('Gracias por su visita')\n",
        "      terminado=True \n",
        "    elif ticket >=60:\n",
        "      lost_ticket = int(ticket//60)\n",
        "      if lost_ticket <8:\n",
        "        clear_output()\n",
        "        print('Pasaste más de una hora en tu tiempo, tu total a pagar es : $ {}'.format(\n",
        "            hora_o_fraccion+lost_ticket*hora_adicional))\n",
        "        print('Gracias por su visita')\n",
        "      if lost_ticket >= 8:\n",
        "        clear_output()\n",
        "        print('Sobrepasaste 8 horas del estacionamiento, la multa es de: $ {} '.format(\n",
        "            hora_o_fraccion + penalizacion + (lost_ticket*hora_adicional)))\n",
        "        print('Gracias por su visita')\n",
        "    else:\n",
        "      clear_output()\n",
        "      terminado=True"
      ],
      "metadata": {
        "id": "bCW4KSGtolQ0"
      },
      "execution_count": 16,
      "outputs": []
    },
    {
      "cell_type": "code",
      "source": [
        "cobro_estacionamiento()"
      ],
      "metadata": {
        "id": "2x3mfQULTFJz"
      },
      "execution_count": null,
      "outputs": []
    }
  ]
}